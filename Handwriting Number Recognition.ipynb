{
 "cells": [
  {
   "cell_type": "markdown",
   "id": "1116d26f",
   "metadata": {},
   "source": [
    "定义卷积神经网络结构（cnn）："
   ]
  },
  {
   "cell_type": "code",
   "execution_count": 2,
   "id": "d080e2a9",
   "metadata": {
    "ExecuteTime": {
     "end_time": "2024-05-12T08:00:02.337226Z",
     "start_time": "2024-05-12T07:59:56.599947Z"
    }
   },
   "outputs": [],
   "source": [
    "import torch\n",
    "from torch.utils.data import DataLoader\n",
    "from torchvision import transforms\n",
    "from torchvision.datasets import MNIST\n",
    "import matplotlib.pyplot as plt\n",
    "import joblib\n",
    "import os\n",
    "import torch\n",
    "import torchvision as tv\n",
    "import torchvision.transforms as transforms\n",
    "import torch.nn as nn\n",
    "import torch.optim as optim\n",
    "import argparse\n",
    "# 定义是否使用GPU\n",
    "device = torch.device(\"cuda\" if torch.cuda.is_available() else \"cpu\")\n",
    "# 定义网络结构\n",
    "class LeNet(nn.Module):\n",
    "    def __init__(self):\n",
    "        super(LeNet, self).__init__()\n",
    "        self.conv1 = nn.Sequential(     #input_size=(1*28*28)\n",
    "            nn.Conv2d(1, 6, 5, 1, 2), #padding=2保证输入输出尺寸相同\n",
    "            nn.ReLU(),      #input_size=(6*28*28)\n",
    "            nn.MaxPool2d(kernel_size=2, stride=2),#output_size=(6*14*14)\n",
    "        )\n",
    "        self.conv2 = nn.Sequential(\n",
    "            nn.Conv2d(6, 16, 5),\n",
    "            nn.ReLU(),      #input_size=(16*10*10)\n",
    "            nn.MaxPool2d(2, 2)  #output_size=(16*5*5)\n",
    "        )\n",
    "        self.fc1 = nn.Sequential(\n",
    "            nn.Linear(16 * 5 * 5, 120),\n",
    "            nn.ReLU()\n",
    "        )\n",
    "        self.fc2 = nn.Sequential(\n",
    "            nn.Linear(120, 84),\n",
    "            nn.ReLU()\n",
    "        )\n",
    "        self.fc3 = nn.Linear(84, 10)\n",
    "\n",
    "    # 定义前向传播过程，输入为x\n",
    "    def forward(self, x):\n",
    "        x = self.conv1(x)\n",
    "        x = self.conv2(x)\n",
    "        # nn.Linear()的输入输出都是维度为一的值，所以要把多维度的tensor展平成一维\n",
    "        x = x.view(x.size()[0], -1)\n",
    "        x = self.fc1(x)\n",
    "        x = self.fc2(x)\n",
    "        x = self.fc3(x)\n",
    "        return x\n",
    "    \n",
    "    "
   ]
  },
  {
   "cell_type": "markdown",
   "id": "c5ad81ea",
   "metadata": {},
   "source": [
    "设置训练的超参数以及训练所用的函数："
   ]
  },
  {
   "cell_type": "code",
   "execution_count": 5,
   "id": "265b6668",
   "metadata": {
    "ExecuteTime": {
     "end_time": "2024-05-12T08:00:14.138192Z",
     "start_time": "2024-05-12T08:00:13.984655Z"
    }
   },
   "outputs": [],
   "source": [
    "# 超参数设置\n",
    "EPOCH = 8   #遍历数据集次数\n",
    "BATCH_SIZE = 64      #批处理尺寸(batch_size)\n",
    "LR = 0.001        #学习率\n",
    "\n",
    "# 定义数据预处理方式\n",
    "transform = transforms.ToTensor()\n",
    "\n",
    "# 定义训练数据集\n",
    "trainset = tv.datasets.MNIST(\n",
    "    root='',\n",
    "    train=True,\n",
    "    download=False,\n",
    "    transform=transform)\n",
    "\n",
    "# 定义训练批处理数据\n",
    "trainloader = torch.utils.data.DataLoader(\n",
    "    trainset,\n",
    "    batch_size=BATCH_SIZE,\n",
    "    shuffle=True,\n",
    "    )\n",
    "\n",
    "# 定义测试数据集\n",
    "testset = tv.datasets.MNIST(\n",
    "    root='',\n",
    "    train=False,\n",
    "    download=False,\n",
    "    transform=transform)\n",
    "\n",
    "# 定义测试批处理数据\n",
    "testloader = torch.utils.data.DataLoader(\n",
    "    testset,\n",
    "    batch_size=BATCH_SIZE,\n",
    "    shuffle=False,\n",
    "    )\n",
    "\n",
    "# 定义损失函数loss function 和优化方式（采用SGD）\n",
    "net = LeNet().to(device)\n",
    "criterion = nn.CrossEntropyLoss()  # 交叉熵损失函数，通常用于多分类问题上\n",
    "optimizer = optim.SGD(net.parameters(), lr=LR, momentum=0.9)"
   ]
  },
  {
   "cell_type": "markdown",
   "id": "6a3d23ad",
   "metadata": {},
   "source": [
    "训练以及测试每轮训练后的准确率："
   ]
  },
  {
   "cell_type": "code",
   "execution_count": null,
   "id": "988a77b5",
   "metadata": {
    "ExecuteTime": {
     "end_time": "2024-02-18T01:58:19.986589Z",
     "start_time": "2024-02-18T01:57:06.298682Z"
    }
   },
   "outputs": [],
   "source": [
    "# 训练\n",
    "\n",
    "\n",
    "for epoch in range(EPOCH):\n",
    "    sum_loss = 0.0\n",
    "    # 数据读取\n",
    "    for i, data in enumerate(trainloader):\n",
    "        inputs, labels = data\n",
    "        inputs, labels = inputs.to(device), labels.to(device)\n",
    "\n",
    "        # 梯度清零\n",
    "        optimizer.zero_grad()\n",
    "\n",
    "        # forward + backward\n",
    "        outputs = net(inputs)\n",
    "        loss = criterion(outputs, labels)\n",
    "        loss.backward()\n",
    "        optimizer.step()\n",
    "\n",
    "        # 每训练100个batch打印一次平均loss\n",
    "        sum_loss += loss.item()\n",
    "        if i % 100 == 99:\n",
    "            print('[%d, %d] loss: %.03f'\n",
    "                  % (epoch + 1, i + 1, sum_loss / 100))\n",
    "            sum_loss = 0.0\n",
    "    # 每跑完一次epoch测试一下准确率\n",
    "    with torch.no_grad():\n",
    "        correct = 0\n",
    "        total = 0\n",
    "        for data in testloader:\n",
    "            images, labels = data\n",
    "            images, labels = images.to(device), labels.to(device)\n",
    "            outputs = net(images)\n",
    "            # 取得分最高的那个类\n",
    "            _, predicted = torch.max(outputs.data, 1)\n",
    "            total += labels.size(0)\n",
    "            correct += (predicted == labels).sum()\n",
    "        print('第%d个epoch的识别准确率为：%d%%' % (epoch + 1, (100 * correct / total)))\n",
    "# torch.save(net.state_dict(), '%s/net_%03d.pth' % (opt.outf, epoch + 1))"
   ]
  },
  {
   "cell_type": "markdown",
   "id": "6a15410e",
   "metadata": {},
   "source": [
    "保存训练好的模型："
   ]
  },
  {
   "cell_type": "code",
   "execution_count": 10,
   "id": "f4b5d1ab",
   "metadata": {
    "ExecuteTime": {
     "end_time": "2024-02-18T01:59:36.668737Z",
     "start_time": "2024-02-18T01:59:36.649566Z"
    }
   },
   "outputs": [],
   "source": [
    "torch.save(net.state_dict(),\"MODEL/model2.pkl\")"
   ]
  },
  {
   "cell_type": "markdown",
   "id": "545ea0da",
   "metadata": {},
   "source": [
    "加载模型的函数："
   ]
  },
  {
   "cell_type": "code",
   "execution_count": 4,
   "id": "f2b0500c",
   "metadata": {
    "ExecuteTime": {
     "end_time": "2024-03-20T17:37:29.684678Z",
     "start_time": "2024-03-20T17:37:29.667933Z"
    }
   },
   "outputs": [],
   "source": [
    "#加载模型\n",
    "\n",
    "def load_model(dir='MODEL', MODEL_NAME='model.pkl'):\n",
    "    path = os.path.join(dir, MODEL_NAME)\n",
    "    if not os.path.exists(path):\n",
    "        raise FileNotFoundError(f\"{path} 模型不存在，请先训练模型！\")\n",
    "    model = joblib.load(path)\n",
    "    return model\n"
   ]
  },
  {
   "cell_type": "markdown",
   "id": "c82f8e17",
   "metadata": {},
   "source": [
    "加载模型："
   ]
  },
  {
   "cell_type": "code",
   "execution_count": 12,
   "id": "f14a9447",
   "metadata": {
    "ExecuteTime": {
     "end_time": "2024-05-12T08:00:54.047685Z",
     "start_time": "2024-05-12T08:00:54.017887Z"
    }
   },
   "outputs": [
    {
     "data": {
      "text/plain": [
       "LeNet(\n",
       "  (conv1): Sequential(\n",
       "    (0): Conv2d(1, 6, kernel_size=(5, 5), stride=(1, 1), padding=(2, 2))\n",
       "    (1): ReLU()\n",
       "    (2): MaxPool2d(kernel_size=2, stride=2, padding=0, dilation=1, ceil_mode=False)\n",
       "  )\n",
       "  (conv2): Sequential(\n",
       "    (0): Conv2d(6, 16, kernel_size=(5, 5), stride=(1, 1))\n",
       "    (1): ReLU()\n",
       "    (2): MaxPool2d(kernel_size=2, stride=2, padding=0, dilation=1, ceil_mode=False)\n",
       "  )\n",
       "  (fc1): Sequential(\n",
       "    (0): Linear(in_features=400, out_features=120, bias=True)\n",
       "    (1): ReLU()\n",
       "  )\n",
       "  (fc2): Sequential(\n",
       "    (0): Linear(in_features=120, out_features=84, bias=True)\n",
       "    (1): ReLU()\n",
       "  )\n",
       "  (fc3): Linear(in_features=84, out_features=10, bias=True)\n",
       ")"
      ]
     },
     "execution_count": 12,
     "metadata": {},
     "output_type": "execute_result"
    }
   ],
   "source": [
    "net = LeNet()\n",
    "# net = load_model(dir='MODEL', MODEL_NAME='model.pkl')\n",
    "loaded_paras = torch.load(\"MODEL/model2.pkl\")\n",
    "net.load_state_dict(loaded_paras)\n",
    "net.eval()"
   ]
  },
  {
   "cell_type": "markdown",
   "id": "8db20321",
   "metadata": {},
   "source": [
    "测试模型识别准确率："
   ]
  },
  {
   "cell_type": "code",
   "execution_count": 13,
   "id": "758e0fb3",
   "metadata": {
    "ExecuteTime": {
     "end_time": "2024-05-12T08:00:58.340014Z",
     "start_time": "2024-05-12T08:00:56.391068Z"
    },
    "scrolled": true
   },
   "outputs": [
    {
     "name": "stdout",
     "output_type": "stream",
     "text": [
      "模型识别准确率为：0.971800\n"
     ]
    }
   ],
   "source": [
    "with torch.no_grad():\n",
    "    correct = 0\n",
    "    total = 0\n",
    "    for data in testloader:\n",
    "        images, labels = data\n",
    "        images, labels = images.to(device), labels.to(device)\n",
    "        outputs = net(images)\n",
    "        # 取得分最高的那个类\n",
    "        _, predicted = torch.max(outputs.data, 1)\n",
    "        total += labels.size(0)\n",
    "        correct += (predicted == labels).sum()\n",
    "    print('模型识别准确率为：%f' % (correct / total))"
   ]
  },
  {
   "cell_type": "code",
   "execution_count": 14,
   "id": "18df18d4",
   "metadata": {
    "ExecuteTime": {
     "end_time": "2024-05-12T08:01:02.304831Z",
     "start_time": "2024-05-12T08:01:00.339451Z"
    },
    "scrolled": false
   },
   "outputs": [
    {
     "name": "stdout",
     "output_type": "stream",
     "text": [
      "Predicted number: 0\n"
     ]
    },
    {
     "data": {
      "image/png": "[encoded data removed]",
      "text/plain": [
       "<Figure size 640x480 with 1 Axes>"
      ]
     },
     "metadata": {},
     "output_type": "display_data"
    }
   ],
   "source": [
    "import tkinter as tk\n",
    "from tkinter import filedialog\n",
    "import matplotlib.pyplot as plt\n",
    "import PIL\n",
    "\n",
    "root = tk.Tk()\n",
    "root.withdraw()\n",
    "\n",
    "# 获取文件夹路径\n",
    "image_path = filedialog.askopenfilename()\n",
    "# print('\\n获取的文件地址：', image_path)\n",
    "\n",
    "transform = transforms.Compose([\n",
    "    transforms.Resize((28, 28)),\n",
    "    transforms.Grayscale(),  # 将图片转换为灰度图像\n",
    "    transforms.ToTensor()\n",
    "])\n",
    "\n",
    "image = PIL.Image.open(image_path)\n",
    "image = transform(image).unsqueeze(0)\n",
    "\n",
    "# 进行预测\n",
    "with torch.no_grad():\n",
    "    output = net(image)\n",
    "    _, predicted = torch.max(output, 1)\n",
    "\n",
    "print('Predicted number:', predicted.item())\n",
    "plt.imshow(image.view(28, 28))\n",
    "plt.show()"
   ]
  },
  {
   "cell_type": "code",
   "execution_count": null,
   "id": "7051354f",
   "metadata": {},
   "outputs": [],
   "source": []
  }
 ],
 "metadata": {
  "kernelspec": {
   "display_name": "Python 3 (ipykernel)",
   "language": "python",
   "name": "python3"
  },
  "language_info": {
   "codemirror_mode": {
    "name": "ipython",
    "version": 3
   },
   "file_extension": ".py",
   "mimetype": "text/x-python",
   "name": "python",
   "nbconvert_exporter": "python",
   "pygments_lexer": "ipython3",
   "version": "3.8.10"
  },
  "toc": {
   "base_numbering": 1,
   "nav_menu": {},
   "number_sections": true,
   "sideBar": true,
   "skip_h1_title": false,
   "title_cell": "Table of Contents",
   "title_sidebar": "Contents",
   "toc_cell": false,
   "toc_position": {},
   "toc_section_display": true,
   "toc_window_display": false
  },
  "varInspector": {
   "cols": {
    "lenName": 16,
    "lenType": 16,
    "lenVar": 40
   },
   "kernels_config": {
    "python": {
     "delete_cmd_postfix": "",
     "delete_cmd_prefix": "del ",
     "library": "var_list.py",
     "varRefreshCmd": "print(var_dic_list())"
    },
    "r": {
     "delete_cmd_postfix": ") ",
     "delete_cmd_prefix": "rm(",
     "library": "var_list.r",
     "varRefreshCmd": "cat(var_dic_list()) "
    }
   },
   "types_to_exclude": [
    "module",
    "function",
    "builtin_function_or_method",
    "instance",
    "_Feature"
   ],
   "window_display": false
  }
 },
 "nbformat": 4,
 "nbformat_minor": 5
}
